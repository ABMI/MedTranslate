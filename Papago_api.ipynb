{
 "cells": [
  {
   "cell_type": "code",
   "execution_count": 40,
   "metadata": {},
   "outputs": [],
   "source": [
    "import os\n",
    "import sys\n",
    "import urllib.request\n",
    "import pandas as pd\n",
    "import json\n",
    "\n",
    "client_id = \"your_client_id\" # 개발자센터에서 발급받은 Client ID 값\n",
    "client_secret = \"your_client_secret\" # 개발자센터에서 발급받은 Client Secret 값\n",
    "url = \"https://openapi.naver.com/v1/papago/n2mt\"\n",
    "\n",
    "working_dir = '/your/working/dir'\n",
    "source_file = 'test_source.csv' # Files that need translation\n",
    "output_file = 'test_output.csv' # output file name"
   ]
  },
  {
   "cell_type": "code",
   "execution_count": 50,
   "metadata": {},
   "outputs": [],
   "source": [
    "def translate_papago(text):\n",
    "    \n",
    "    global translated_output\n",
    "    \n",
    "    encText = urllib.parse.quote(text)\n",
    "    data = \"source=ko&target=en&text=\" + encText\n",
    "    request = urllib.request.Request(url)\n",
    "    request.add_header(\"X-Naver-Client-Id\",client_id)\n",
    "    request.add_header(\"X-Naver-Client-Secret\",client_secret)\n",
    "    response = urllib.request.urlopen(request, data=data.encode(\"utf-8\"))\n",
    "    rescode = response.getcode()\n",
    "\n",
    "    response_body = response.read()\n",
    "    jsonStr = json.loads(response_body.decode('utf-8'))\n",
    "       \n",
    "    for translation in jsonStr:\n",
    "        translated_output = jsonStr['message']['result']['translatedText']"
   ]
  },
  {
   "cell_type": "code",
   "execution_count": 51,
   "metadata": {},
   "outputs": [],
   "source": [
    "df = pd.read_csv(\"/\".join([working_dir,source_file]))"
   ]
  },
  {
   "cell_type": "code",
   "execution_count": 52,
   "metadata": {},
   "outputs": [],
   "source": [
    "for index, row in df.iterrows():\n",
    "    df.loc[index,\"en\"] = ''\n",
    "\n",
    "for index, row in df.iterrows():\n",
    "    translator = translate_papago(row[\"ko\"])\n",
    "    \n",
    "    row[\"en\"] = translated_output"
   ]
  },
  {
   "cell_type": "code",
   "execution_count": 53,
   "metadata": {},
   "outputs": [],
   "source": [
    "df.to_csv(\"/\".join([working_dir,output_file]), mode='w')"
   ]
  }
 ],
 "metadata": {
  "kernelspec": {
   "display_name": "Python 3",
   "language": "python",
   "name": "python3"
  },
  "language_info": {
   "codemirror_mode": {
    "name": "ipython",
    "version": 3
   },
   "file_extension": ".py",
   "mimetype": "text/x-python",
   "name": "python",
   "nbconvert_exporter": "python",
   "pygments_lexer": "ipython3",
   "version": "3.8.3"
  }
 },
 "nbformat": 4,
 "nbformat_minor": 4
}
