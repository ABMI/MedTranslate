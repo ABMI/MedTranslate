{
 "cells": [
  {
   "cell_type": "code",
   "execution_count": null,
   "metadata": {},
   "outputs": [],
   "source": [
    "from google.cloud import translate_v3\n",
    "import os\n",
    "import pandas as pd\n",
    "import numpy as np\n",
    "import csv"
   ]
  },
  {
   "cell_type": "markdown",
   "metadata": {},
   "source": [
    "## Google Cloud API 정보, working directory 입력"
   ]
  },
  {
   "cell_type": "code",
   "execution_count": null,
   "metadata": {},
   "outputs": [],
   "source": [
    "project_id = \"your_project_id\" ## GCP project id \n",
    "glossary_id = \"your_glossary_id\" ## name you want to give this glossary resource\n",
    "location = 'us-central1'\n",
    "credential_file = \"/path/to/your/credentials.json\"\n",
    "gcs_glossary_uri = 'gs://path/to/your/storage/your_glossary.csv'\n",
    "\n",
    "working_dir = '/your/working/dir'\n",
    "source_file = 'test_source.csv' # Files that need translation\n",
    "output_file = 'test_output.csv' # output file name"
   ]
  },
  {
   "cell_type": "code",
   "execution_count": null,
   "metadata": {},
   "outputs": [],
   "source": [
    "os.environ[\"GOOGLE_APPLICATION_CREDENTIALS\"]=credential_file"
   ]
  },
  {
   "cell_type": "code",
   "execution_count": null,
   "metadata": {},
   "outputs": [],
   "source": [
    "def translate_text_with_glossary(\n",
    "    text,\n",
    "    project_id,\n",
    "    glossary_id\n",
    "):\n",
    "    global translated_output\n",
    "\n",
    "    client = translate_v3.TranslationServiceClient()\n",
    "    parent = client.location_path(project_id, location)\n",
    "\n",
    "    glossary = client.glossary_path(\n",
    "        project_id, location, glossary_id  # The location of the glossary\n",
    "    )\n",
    "\n",
    "    glossary_config = translate_v3.types.TranslateTextGlossaryConfig(\n",
    "        glossary=glossary)\n",
    "\n",
    "    # Supported language codes: https://cloud.google.com/translate/docs/languages\n",
    "    response = client.translate_text(\n",
    "        contents=[text],\n",
    "        source_language_code=\"ko\",\n",
    "        target_language_code=\"en\",\n",
    "        parent=parent,\n",
    "        glossary_config=glossary_config,\n",
    "    )\n",
    "    \n",
    "    for translation in response.glossary_translations:\n",
    "        translated_output = translation.translated_text"
   ]
  },
  {
   "cell_type": "code",
   "execution_count": null,
   "metadata": {
    "scrolled": true
   },
   "outputs": [],
   "source": [
    "df = pd.read_csv(\"/\".join([working_dir,source_file]))"
   ]
  },
  {
   "cell_type": "code",
   "execution_count": null,
   "metadata": {
    "scrolled": false
   },
   "outputs": [],
   "source": [
    "for index, row in df.iterrows():\n",
    "    df.loc[index,\"en\"] = ''\n",
    "\n",
    "for index, row in df.iterrows():\n",
    "    translator = translate_text_with_glossary(row[\"ko\"], project_id, glossary_id)\n",
    "    \n",
    "    row[\"en\"] = translated_output"
   ]
  },
  {
   "cell_type": "code",
   "execution_count": null,
   "metadata": {},
   "outputs": [],
   "source": [
    "df.to_csv(\"/\".join([working_dir,output_file]), mode='w')"
   ]
  }
 ],
 "metadata": {
  "kernelspec": {
   "display_name": "Python 3",
   "language": "python",
   "name": "python3"
  },
  "language_info": {
   "codemirror_mode": {
    "name": "ipython",
    "version": 3
   },
   "file_extension": ".py",
   "mimetype": "text/x-python",
   "name": "python",
   "nbconvert_exporter": "python",
   "pygments_lexer": "ipython3",
   "version": "3.8.3"
  }
 },
 "nbformat": 4,
 "nbformat_minor": 4
}
