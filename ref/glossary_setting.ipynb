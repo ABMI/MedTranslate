{
 "cells": [
  {
   "cell_type": "code",
   "execution_count": null,
   "metadata": {},
   "outputs": [],
   "source": [
    "from google.cloud import translate_v3 as translate\n",
    "import os"
   ]
  },
  {
   "cell_type": "markdown",
   "metadata": {},
   "source": [
    "## Google Cloud API 정보 입력"
   ]
  },
  {
   "cell_type": "code",
   "execution_count": null,
   "metadata": {},
   "outputs": [],
   "source": [
    "project_id = \"your_project_id\" ## GCP project id \n",
    "glossary_id = \"your_glossary_id\" ## name you want to give this glossary resource\n",
    "location = 'us-central1'\n",
    "credential_file = \"/path/to/your/credentials.json\"\n",
    "gcs_glossary_uri = 'gs://path/to/your/storage/your_glossary.csv'"
   ]
  },
  {
   "cell_type": "code",
   "execution_count": null,
   "metadata": {},
   "outputs": [],
   "source": [
    "os.environ[\"GOOGLE_APPLICATION_CREDENTIALS\"]=credential_file"
   ]
  },
  {
   "cell_type": "markdown",
   "metadata": {},
   "source": [
    "## 용어집 삭제(필요시 사용)"
   ]
  },
  {
   "cell_type": "code",
   "execution_count": null,
   "metadata": {},
   "outputs": [],
   "source": [
    "def delete_glossary(\n",
    "    project_id, glossary_id\n",
    "):\n",
    "    client = translate.TranslationServiceClient()\n",
    "\n",
    "    parent = client.glossary_path(project_id, \"us-central1\", glossary_id)\n",
    "\n",
    "    operation = client.delete_glossary(parent)\n",
    "    result = operation.result(timeout=180)\n",
    "\n",
    "    print(\"Deleted: {}\".format(result.name))"
   ]
  },
  {
   "cell_type": "code",
   "execution_count": null,
   "metadata": {},
   "outputs": [],
   "source": [
    "# delete_glossary(project_id, glossary_id)"
   ]
  },
  {
   "cell_type": "markdown",
   "metadata": {},
   "source": [
    "## 용어집 리소스 생성"
   ]
  },
  {
   "cell_type": "code",
   "execution_count": null,
   "metadata": {},
   "outputs": [],
   "source": [
    "def create_glossary(\n",
    "    project_id,\n",
    "    input_uri,\n",
    "    glossary_id\n",
    "):\n",
    "    \"\"\"\n",
    "    Create a equivalent term sets glossary. Glossary can be words or\n",
    "    short phrases (usually fewer than five words).\n",
    "    https://cloud.google.com/translate/docs/advanced/glossary#format-glossary\n",
    "    \"\"\"\n",
    "    client = translate.TranslationServiceClient()\n",
    "\n",
    "    # Supported language codes: https://cloud.google.com/translate/docs/languages\n",
    "    source_lang_code = \"ko\"\n",
    "    target_lang_code = \"en\"\n",
    "    location = \"us-central1\"  # The location of the glossary\n",
    "\n",
    "    name = client.glossary_path(project_id, location, glossary_id)\n",
    "    language_codes_set = translate.types.Glossary.LanguageCodesSet(\n",
    "        language_codes=[source_lang_code, target_lang_code]\n",
    "    )\n",
    "\n",
    "    gcs_source = translate.types.GcsSource(input_uri=input_uri)\n",
    "\n",
    "    input_config = translate.types.GlossaryInputConfig(gcs_source=gcs_source)\n",
    "\n",
    "    glossary = translate.types.Glossary(\n",
    "        name=name, language_codes_set=language_codes_set, input_config=input_config\n",
    "    )\n",
    "\n",
    "    parent = client.location_path(project_id, location)\n",
    "    # glossary is a custom dictionary Translation API uses\n",
    "    # to translate the domain-specific terminology.\n",
    "    operation = client.create_glossary(parent=parent, glossary=glossary)\n",
    "\n",
    "    result = operation.result(timeout=180)\n",
    "    print(\"Created: {}\".format(result.name))\n",
    "    print(\"Input Uri: {}\".format(result.input_config.gcs_source.input_uri))"
   ]
  },
  {
   "cell_type": "code",
   "execution_count": null,
   "metadata": {},
   "outputs": [],
   "source": [
    "create_glossary(project_id,gcs_glossary_uri,glossary_id)"
   ]
  },
  {
   "cell_type": "markdown",
   "metadata": {},
   "source": [
    "## 용어집 정보 조회"
   ]
  },
  {
   "cell_type": "code",
   "execution_count": null,
   "metadata": {},
   "outputs": [],
   "source": [
    "from google.cloud import translate_v3 as translate\n",
    "client = translate.TranslationServiceClient()\n",
    "\n",
    "parent = client.glossary_path(\n",
    "    project_id,\n",
    "    location,  # The location of the glossary\n",
    "    glossary_id)\n",
    "\n",
    "response = client.get_glossary(parent)\n",
    "print('Name: {}'.format(response.name))\n",
    "print('Language Pair:')\n",
    "print('\\tSource Language Code: {}'.format(\n",
    "    response.language_pair.source_language_code))\n",
    "print('\\tTarget Language Code: {}'.format(\n",
    "    response.language_pair.target_language_code))\n",
    "print('Input Uri: {}'.format(\n",
    "    response.input_config.gcs_source.input_uri))"
   ]
  }
 ],
 "metadata": {
  "kernelspec": {
   "display_name": "Python 3",
   "language": "python",
   "name": "python3"
  },
  "language_info": {
   "codemirror_mode": {
    "name": "ipython",
    "version": 3
   },
   "file_extension": ".py",
   "mimetype": "text/x-python",
   "name": "python",
   "nbconvert_exporter": "python",
   "pygments_lexer": "ipython3",
   "version": "3.7.6"
  }
 },
 "nbformat": 4,
 "nbformat_minor": 4
}
